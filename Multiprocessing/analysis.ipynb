{
 "cells": [
  {
   "cell_type": "code",
   "execution_count": 9,
   "metadata": {},
   "outputs": [],
   "source": [
    "import pandas as pd"
   ]
  },
  {
   "cell_type": "code",
   "execution_count": 10,
   "metadata": {},
   "outputs": [],
   "source": [
    "df = pd.read_csv('total.csv')"
   ]
  },
  {
   "cell_type": "code",
   "execution_count": 11,
   "metadata": {},
   "outputs": [
    {
     "data": {
      "text/html": [
       "<div>\n",
       "<style scoped>\n",
       "    .dataframe tbody tr th:only-of-type {\n",
       "        vertical-align: middle;\n",
       "    }\n",
       "\n",
       "    .dataframe tbody tr th {\n",
       "        vertical-align: top;\n",
       "    }\n",
       "\n",
       "    .dataframe thead th {\n",
       "        text-align: right;\n",
       "    }\n",
       "</style>\n",
       "<table border=\"1\" class=\"dataframe\">\n",
       "  <thead>\n",
       "    <tr style=\"text-align: right;\">\n",
       "      <th></th>\n",
       "      <th>Unnamed: 0</th>\n",
       "      <th>platform</th>\n",
       "      <th>main_category</th>\n",
       "      <th>sub_category</th>\n",
       "      <th>title</th>\n",
       "      <th>content</th>\n",
       "      <th>writer</th>\n",
       "      <th>writed_at</th>\n",
       "      <th>news_agency</th>\n",
       "    </tr>\n",
       "  </thead>\n",
       "  <tbody>\n",
       "    <tr>\n",
       "      <th>0</th>\n",
       "      <td>0</td>\n",
       "      <td>다음뉴스</td>\n",
       "      <td>경제</td>\n",
       "      <td>공시</td>\n",
       "      <td>피에스엠씨, 250억 규모 전환사채권 발행 결정</td>\n",
       "      <td>[이데일리 양지윤 기자] 피에스엠씨(024850)는 시설자금 등 확보 목적으로 노마...</td>\n",
       "      <td>양지윤</td>\n",
       "      <td>2023. 2. 1. 19:30</td>\n",
       "      <td>이데일리</td>\n",
       "    </tr>\n",
       "    <tr>\n",
       "      <th>1</th>\n",
       "      <td>1</td>\n",
       "      <td>다음뉴스</td>\n",
       "      <td>경제</td>\n",
       "      <td>공시</td>\n",
       "      <td>옵티시스, 지난해 영업익 77억…전년比 82.3%↑</td>\n",
       "      <td>[이데일리 이용성 기자] 옵티시스(109080)는 지난해 연결기준 영업이익이 77억...</td>\n",
       "      <td>이용성</td>\n",
       "      <td>2023. 2. 1. 19:17</td>\n",
       "      <td>이데일리</td>\n",
       "    </tr>\n",
       "    <tr>\n",
       "      <th>2</th>\n",
       "      <td>2</td>\n",
       "      <td>다음뉴스</td>\n",
       "      <td>경제</td>\n",
       "      <td>공시</td>\n",
       "      <td>벨로프, 60억 규모 단기차입금 증가 결정</td>\n",
       "      <td>[이데일리 이용성 기자] 벨로프는 타법인 취득 자금을 마련하기 위해 60억 규모의 ...</td>\n",
       "      <td>이용성</td>\n",
       "      <td>2023. 2. 1. 19:16</td>\n",
       "      <td>이데일리</td>\n",
       "    </tr>\n",
       "    <tr>\n",
       "      <th>3</th>\n",
       "      <td>3</td>\n",
       "      <td>다음뉴스</td>\n",
       "      <td>경제</td>\n",
       "      <td>공시</td>\n",
       "      <td>피에스엠씨 250억 규모 유상증자…자금 조달 목적</td>\n",
       "      <td>[이데일리 이용성 기자] 피에스엠씨(024850)는 운영자금 등 조달을 위해 약 2...</td>\n",
       "      <td>이용성</td>\n",
       "      <td>2023. 2. 1. 19:16</td>\n",
       "      <td>이데일리</td>\n",
       "    </tr>\n",
       "    <tr>\n",
       "      <th>4</th>\n",
       "      <td>4</td>\n",
       "      <td>다음뉴스</td>\n",
       "      <td>경제</td>\n",
       "      <td>공시</td>\n",
       "      <td>아이씨디, 지난해 영업손실 49억…적자전환</td>\n",
       "      <td>[이데일리 이용성 기자] 아이씨디(040910)는 지난해 연결 기준 영업적자가 49...</td>\n",
       "      <td>이용성</td>\n",
       "      <td>2023. 2. 1. 19:10</td>\n",
       "      <td>이데일리</td>\n",
       "    </tr>\n",
       "  </tbody>\n",
       "</table>\n",
       "</div>"
      ],
      "text/plain": [
       "   Unnamed: 0 platform main_category sub_category  \\\n",
       "0           0     다음뉴스            경제           공시   \n",
       "1           1     다음뉴스            경제           공시   \n",
       "2           2     다음뉴스            경제           공시   \n",
       "3           3     다음뉴스            경제           공시   \n",
       "4           4     다음뉴스            경제           공시   \n",
       "\n",
       "                          title  \\\n",
       "0    피에스엠씨, 250억 규모 전환사채권 발행 결정   \n",
       "1  옵티시스, 지난해 영업익 77억…전년比 82.3%↑   \n",
       "2       벨로프, 60억 규모 단기차입금 증가 결정   \n",
       "3   피에스엠씨 250억 규모 유상증자…자금 조달 목적   \n",
       "4       아이씨디, 지난해 영업손실 49억…적자전환   \n",
       "\n",
       "                                             content writer  \\\n",
       "0  [이데일리 양지윤 기자] 피에스엠씨(024850)는 시설자금 등 확보 목적으로 노마...    양지윤   \n",
       "1  [이데일리 이용성 기자] 옵티시스(109080)는 지난해 연결기준 영업이익이 77억...    이용성   \n",
       "2  [이데일리 이용성 기자] 벨로프는 타법인 취득 자금을 마련하기 위해 60억 규모의 ...    이용성   \n",
       "3  [이데일리 이용성 기자] 피에스엠씨(024850)는 운영자금 등 조달을 위해 약 2...    이용성   \n",
       "4  [이데일리 이용성 기자] 아이씨디(040910)는 지난해 연결 기준 영업적자가 49...    이용성   \n",
       "\n",
       "           writed_at news_agency  \n",
       "0  2023. 2. 1. 19:30        이데일리  \n",
       "1  2023. 2. 1. 19:17        이데일리  \n",
       "2  2023. 2. 1. 19:16        이데일리  \n",
       "3  2023. 2. 1. 19:16        이데일리  \n",
       "4  2023. 2. 1. 19:10        이데일리  "
      ]
     },
     "execution_count": 11,
     "metadata": {},
     "output_type": "execute_result"
    }
   ],
   "source": [
    "df.head()"
   ]
  },
  {
   "cell_type": "code",
   "execution_count": 13,
   "metadata": {},
   "outputs": [
    {
     "data": {
      "text/plain": [
       "'[서울경제]                             오세순 기자 osss@sedaily.com'"
      ]
     },
     "execution_count": 13,
     "metadata": {},
     "output_type": "execute_result"
    }
   ],
   "source": [
    "# 이미지만 있는 기사\n",
    "df['content'][14]"
   ]
  },
  {
   "cell_type": "code",
   "execution_count": 5,
   "metadata": {},
   "outputs": [
    {
     "data": {
      "text/plain": [
       "이용성                     97\n",
       "마켓포인트                   54\n",
       "차은지                     53\n",
       "박순엽                     40\n",
       "오세순 기자                  39\n",
       "                        ..\n",
       "김대성                      1\n",
       "장명훈                      1\n",
       "입력 2023. 2. 1. 06:52     1\n",
       "구자창                      1\n",
       "강건택                      1\n",
       "Name: writer, Length: 1282, dtype: int64"
      ]
     },
     "execution_count": 5,
     "metadata": {},
     "output_type": "execute_result"
    }
   ],
   "source": [
    "# 작성자 뒤에 기자가 붙거나 없는 작성자가 없는 경우\n",
    "df['writer'].value_counts()"
   ]
  },
  {
   "cell_type": "code",
   "execution_count": 15,
   "metadata": {},
   "outputs": [],
   "source": [
    "len_list = []\n",
    "for i in range(len(df['writed_at'])):\n",
    "    len_list.append(len(df['writed_at'][i]))"
   ]
  },
  {
   "cell_type": "code",
   "execution_count": 17,
   "metadata": {},
   "outputs": [
    {
     "data": {
      "text/plain": [
       "5972"
      ]
     },
     "execution_count": 17,
     "metadata": {},
     "output_type": "execute_result"
    }
   ],
   "source": [
    "len_list.count(17)"
   ]
  },
  {
   "cell_type": "code",
   "execution_count": 18,
   "metadata": {},
   "outputs": [
    {
     "data": {
      "text/plain": [
       "5972"
      ]
     },
     "execution_count": 18,
     "metadata": {},
     "output_type": "execute_result"
    }
   ],
   "source": [
    "# 기간에는 문제가 없다!\n",
    "len(df['writed_at'])"
   ]
  },
  {
   "cell_type": "code",
   "execution_count": null,
   "metadata": {},
   "outputs": [],
   "source": []
  }
 ],
 "metadata": {
  "kernelspec": {
   "display_name": "base",
   "language": "python",
   "name": "python3"
  },
  "language_info": {
   "codemirror_mode": {
    "name": "ipython",
    "version": 3
   },
   "file_extension": ".py",
   "mimetype": "text/x-python",
   "name": "python",
   "nbconvert_exporter": "python",
   "pygments_lexer": "ipython3",
   "version": "3.9.13"
  },
  "orig_nbformat": 4
 },
 "nbformat": 4,
 "nbformat_minor": 2
}
